{
 "cells": [
  {
   "cell_type": "code",
   "execution_count": 2,
   "metadata": {},
   "outputs": [],
   "source": [
    "class Node:\n",
    "    \n",
    "    def __init__(self, value):\n",
    "        self.value = value\n",
    "        self.left = None\n",
    "        self.right = None"
   ]
  },
  {
   "cell_type": "code",
   "execution_count": 4,
   "metadata": {},
   "outputs": [],
   "source": [
    "class BST:\n",
    "    \n",
    "    def __init__(self):\n",
    "            self.root = None\n",
    "            \n",
    "    def insert(self, value):\n",
    "        self.root = self.insertRec(value, self.root)\n",
    "        \n",
    "    def insertRec(self, value, node):\n",
    "        \n",
    "        # base case of rec\n",
    "        if node == None:\n",
    "            new_node = Node(value)\n",
    "            return new_node\n",
    "        \n",
    "        \n",
    "        # general procedure\n",
    "        if value < node.value:\n",
    "            node.left = self.insertRec(value, node.left)\n",
    "        else:\n",
    "            node.right = self.insertRec(value, node.right)\n",
    "        \n",
    "        \n",
    "        return node\n",
    "        \n",
    "    "
   ]
  },
  {
   "cell_type": "code",
   "execution_count": 6,
   "metadata": {},
   "outputs": [],
   "source": []
  },
  {
   "cell_type": "code",
   "execution_count": 7,
   "metadata": {},
   "outputs": [],
   "source": [
    "tree = BST()"
   ]
  },
  {
   "cell_type": "code",
   "execution_count": 8,
   "metadata": {},
   "outputs": [],
   "source": [
    "# sachine = Node(\"Sachine\")\n",
    "\n",
    "# tree.root = sachine\n",
    "\n",
    "# tree.root.value\n",
    "\n",
    "# mohit = Node(\"Mohit\")\n",
    "\n",
    "# tree.root.left = mohit"
   ]
  },
  {
   "cell_type": "code",
   "execution_count": null,
   "metadata": {},
   "outputs": [],
   "source": []
  }
 ],
 "metadata": {
  "kernelspec": {
   "display_name": "Python 3",
   "language": "python",
   "name": "python3"
  },
  "language_info": {
   "codemirror_mode": {
    "name": "ipython",
    "version": 3
   },
   "file_extension": ".py",
   "mimetype": "text/x-python",
   "name": "python",
   "nbconvert_exporter": "python",
   "pygments_lexer": "ipython3",
   "version": "3.7.7"
  }
 },
 "nbformat": 4,
 "nbformat_minor": 4
}
