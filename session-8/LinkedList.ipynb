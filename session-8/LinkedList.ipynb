{
 "cells": [
  {
   "cell_type": "code",
   "execution_count": 30,
   "metadata": {},
   "outputs": [],
   "source": [
    "class Node:\n",
    "    def __init__(self, value, nextNode=None):\n",
    "        self.value = value\n",
    "        self.next = nextNode\n",
    "\n",
    "class LinkedList:\n",
    "    \n",
    "    def __init__(self):\n",
    "        self.__head = None\n",
    "        \n",
    "    "
   ]
  },
  {
   "cell_type": "code",
   "execution_count": 31,
   "metadata": {},
   "outputs": [],
   "source": [
    "ll = LinkedList()"
   ]
  },
  {
   "cell_type": "code",
   "execution_count": 21,
   "metadata": {},
   "outputs": [],
   "source": []
  },
  {
   "cell_type": "code",
   "execution_count": 32,
   "metadata": {},
   "outputs": [
    {
     "data": {
      "text/plain": [
       "'Mohini'"
      ]
     },
     "execution_count": 32,
     "metadata": {},
     "output_type": "execute_result"
    }
   ],
   "source": [
    "mohini = Node(\"Mohini\")\n",
    "\n",
    "ravi = Node(\"Ravi\", mohini)\n",
    "\n",
    "ravi.next.value"
   ]
  },
  {
   "cell_type": "code",
   "execution_count": 52,
   "metadata": {},
   "outputs": [],
   "source": [
    "class Node:\n",
    "    def __init__(self, value, nextNode=None):\n",
    "        self.value = value\n",
    "        self.next = nextNode\n",
    "\n",
    "class LinkedList:\n",
    "    \n",
    "    def __init__(self):\n",
    "        self.__head = None\n",
    "    \n",
    "    def insert_first(self, value):\n",
    "        new_node = Node(value)\n",
    "        new_node.next = self.__head\n",
    "        self.__head = new_node\n",
    "        \n",
    "    def __repr__(self):\n",
    "        \n",
    "        items=[]\n",
    "        temp = self.__head\n",
    "        \n",
    "        while temp != None:\n",
    "            items.append(temp.value)\n",
    "            temp = temp.next\n",
    "        \n",
    "        return \" => \".join(items)\n",
    "        \n",
    "        \n",
    "    "
   ]
  },
  {
   "cell_type": "code",
   "execution_count": 54,
   "metadata": {},
   "outputs": [],
   "source": [
    "ll = LinkedList()\n"
   ]
  },
  {
   "cell_type": "code",
   "execution_count": 55,
   "metadata": {},
   "outputs": [],
   "source": [
    "ll.insert_first(\"Mohini\")\n",
    "ll.insert_first(\"Ravi\")\n",
    "ll.insert_first(\"Neha\")"
   ]
  },
  {
   "cell_type": "code",
   "execution_count": 56,
   "metadata": {},
   "outputs": [
    {
     "data": {
      "text/plain": [
       "Neha => Ravi => Mohini"
      ]
     },
     "execution_count": 56,
     "metadata": {},
     "output_type": "execute_result"
    }
   ],
   "source": [
    "ll"
   ]
  },
  {
   "cell_type": "code",
   "execution_count": 53,
   "metadata": {},
   "outputs": [],
   "source": [
    "# head = None\n",
    "\n",
    "# mohini = Node(\"Mohini\")\n",
    "\n",
    "# mohini.next = head\n",
    "\n",
    "# head = mohini\n",
    "\n",
    "\n",
    "\n",
    "# ravi = Node(\"Ravi\")\n",
    "\n",
    "# ravi.next = head\n",
    "\n",
    "# head = ravi\n",
    "\n",
    "\n",
    "\n",
    "# neha = Node(\"Neha\")\n",
    "\n",
    "# neha.next = head\n",
    "\n",
    "# head = neha\n",
    "\n"
   ]
  },
  {
   "cell_type": "code",
   "execution_count": 51,
   "metadata": {},
   "outputs": [
    {
     "data": {
      "text/plain": [
       "'Mohini'"
      ]
     },
     "execution_count": 51,
     "metadata": {},
     "output_type": "execute_result"
    }
   ],
   "source": [
    "head.next.next.value"
   ]
  },
  {
   "cell_type": "code",
   "execution_count": 67,
   "metadata": {},
   "outputs": [],
   "source": [
    "class Node:\n",
    "    def __init__(self, value, nextNode=None):\n",
    "        self.value = value\n",
    "        self.next = nextNode\n",
    "\n",
    "class LinkedList:\n",
    "    \n",
    "    def __init__(self):\n",
    "        self.__head = None\n",
    "    \n",
    "    def insert_first(self, value):\n",
    "        new_node = Node(value)\n",
    "        new_node.next = self.__head\n",
    "        self.__head = new_node\n",
    "        \n",
    "    def insert_last(self, value):\n",
    "        if self.__head == None:\n",
    "            self.insert_first(value)\n",
    "            return\n",
    "            \n",
    "        new_node = Node(value)\n",
    "        \n",
    "        # by the end. temp will be tail\n",
    "        temp = self.__head\n",
    "        while temp.next != None:\n",
    "            temp = temp.next\n",
    "        \n",
    "        temp.next = new_node\n",
    "        \n",
    "    \n",
    "    def __getNode(self, index):\n",
    "        loc = 0 \n",
    "        node = self.__head\n",
    "        \n",
    "        while index != loc:\n",
    "            node = node.next\n",
    "            loc = loc + 1\n",
    "        \n",
    "        return node\n",
    "        \n",
    "        \n",
    "    def __repr__(self):\n",
    "        \n",
    "        items=[]\n",
    "        temp = self.__head\n",
    "        \n",
    "        while temp != None:\n",
    "            items.append(temp.value)\n",
    "            temp = temp.next\n",
    "        \n",
    "        return \" => \".join(items)\n",
    "        \n",
    "        \n",
    "    "
   ]
  },
  {
   "cell_type": "code",
   "execution_count": 68,
   "metadata": {},
   "outputs": [],
   "source": [
    "ll = LinkedList()\n",
    "\n",
    "ll.insert_last(\"Mani\")\n",
    "\n",
    "ll.insert_last(\"Sachin\")\n",
    "\n",
    "ll.insert_last(\"Kavi\")"
   ]
  },
  {
   "cell_type": "code",
   "execution_count": 72,
   "metadata": {},
   "outputs": [
    {
     "data": {
      "text/plain": [
       "Mani => Sachin => Kavi"
      ]
     },
     "execution_count": 72,
     "metadata": {},
     "output_type": "execute_result"
    }
   ],
   "source": [
    "ll"
   ]
  },
  {
   "cell_type": "code",
   "execution_count": null,
   "metadata": {},
   "outputs": [],
   "source": [
    "class Node:\n",
    "    def __init__(self, value, nextNode=None):\n",
    "        self.value = value\n",
    "        self.next = nextNode\n",
    "\n",
    "class LinkedList:\n",
    "    \n",
    "    def __init__(self):\n",
    "        self.__head = None\n",
    "    \n",
    "    def insert_first(self, value):\n",
    "        new_node = Node(value)\n",
    "        new_node.next = self.__head\n",
    "        self.__head = new_node\n",
    "        \n",
    "    def insert_last(self, value):\n",
    "        if self.__head == None:\n",
    "            self.insert_first(value)\n",
    "            return\n",
    "            \n",
    "        new_node = Node(value)\n",
    "        \n",
    "        # by the end. temp will be tail\n",
    "        temp = self.__head\n",
    "        while temp.next != None:\n",
    "            temp = temp.next\n",
    "        \n",
    "        temp.next = new_node\n",
    "        \n",
    "    \n",
    "    def __getNode(self, index):\n",
    "        loc = 0 \n",
    "        node = self.__head\n",
    "        \n",
    "        while index != loc:\n",
    "            node = node.next\n",
    "            loc = loc + 1\n",
    "        \n",
    "        return node\n",
    "    \n",
    "    def insert(self, value, index):\n",
    "        if index == 0:\n",
    "            self.insert_first(value)\n",
    "            return\n",
    "        \n",
    "        prev = self.__getNode(index-1)\n",
    "        \n",
    "        new_node = Node(value)\n",
    "        \n",
    "        new_node.next = prev.next\n",
    "        prev.next = new_node\n",
    "\n",
    "        \n",
    "        \n",
    "    def __repr__(self):\n",
    "        \n",
    "        items=[]\n",
    "        temp = self.__head\n",
    "        \n",
    "        while temp != None:\n",
    "            items.append(temp.value)\n",
    "            temp = temp.next\n",
    "        \n",
    "        return \" => \".join(items)\n",
    "        \n",
    "        \n",
    "    "
   ]
  },
  {
   "cell_type": "code",
   "execution_count": null,
   "metadata": {},
   "outputs": [],
   "source": []
  },
  {
   "cell_type": "code",
   "execution_count": null,
   "metadata": {},
   "outputs": [],
   "source": []
  },
  {
   "cell_type": "code",
   "execution_count": 83,
   "metadata": {},
   "outputs": [],
   "source": [
    "class Node:\n",
    "    def __init__(self, value, nextNode=None):\n",
    "        self.value = value\n",
    "        self.next = nextNode\n",
    "\n",
    "class LinkedList:\n",
    "    \n",
    "    def __init__(self):\n",
    "        self.__head = None\n",
    "    \n",
    "    def insert_first(self, value):\n",
    "        new_node = Node(value)\n",
    "        new_node.next = self.__head\n",
    "        self.__head = new_node\n",
    "\n",
    "    def delete_first(self):\n",
    "        node = self.__head\n",
    "        self.__head = node.next\n",
    "        return node.value\n",
    "        \n",
    "    def insert_last(self, value):\n",
    "        if self.__head == None:\n",
    "            self.insert_first(value)\n",
    "            return\n",
    "            \n",
    "        new_node = Node(value)\n",
    "        \n",
    "        # by the end. temp will be tail\n",
    "        temp = self.__head\n",
    "        while temp.next != None:\n",
    "            temp = temp.next\n",
    "        \n",
    "        temp.next = new_node\n",
    "        \n",
    "    def get(self, index):\n",
    "        return self.__getNode(index).value\n",
    "        \n",
    "    def delete_last(self):\n",
    "        if self.__head.next == None:\n",
    "            return self.delete_first()\n",
    "            \n",
    "        temp = self.__head\n",
    "        while temp.next.next != None:\n",
    "            temp = temp.next\n",
    "        \n",
    "        # node is item to be deleted. tail in this case\n",
    "        node = temp.next\n",
    "        temp.next = None # because node is tail here\n",
    "        \n",
    "        return node.value\n",
    "        \n",
    "    \n",
    "    def __getNode(self, index):\n",
    "        loc = 0 \n",
    "        node = self.__head\n",
    "        \n",
    "        while index != loc:\n",
    "            node = node.next\n",
    "            loc = loc + 1\n",
    "        \n",
    "        return node\n",
    "    \n",
    "    def delete(self, index):\n",
    "        if index == 0:\n",
    "            return self.delete_first()\n",
    "        \n",
    "        prev = self.__getNode(index-1)\n",
    "        \n",
    "        node = prev.next\n",
    "        prev.next = node.next \n",
    "        return node.value\n",
    "        \n",
    "\n",
    "    def insert(self, value, index):\n",
    "        if index == 0:\n",
    "            self.insert_first(value)\n",
    "            return\n",
    "        \n",
    "        prev = self.__getNode(index-1)\n",
    "        \n",
    "        new_node = Node(value)\n",
    "        \n",
    "        new_node.next = prev.next\n",
    "        prev.next = new_node\n",
    "        \n",
    "    def __repr__(self):\n",
    "        \n",
    "        items=[]\n",
    "        temp = self.__head\n",
    "        \n",
    "        while temp != None:\n",
    "            items.append(temp.value)\n",
    "            temp = temp.next\n",
    "        \n",
    "        return \" => \".join(items)\n",
    "        \n",
    "        \n",
    "    "
   ]
  },
  {
   "cell_type": "code",
   "execution_count": 85,
   "metadata": {},
   "outputs": [],
   "source": [
    "ll = LinkedList()\n",
    "\n",
    "ll.insert_last(\"Mani\")\n",
    "\n",
    "ll.insert_last(\"Sachin\")\n",
    "\n",
    "ll.insert_last(\"Kavi\")"
   ]
  },
  {
   "cell_type": "code",
   "execution_count": 86,
   "metadata": {},
   "outputs": [
    {
     "data": {
      "text/plain": [
       "Mani => Sachin => Kavi"
      ]
     },
     "execution_count": 86,
     "metadata": {},
     "output_type": "execute_result"
    }
   ],
   "source": [
    "ll"
   ]
  },
  {
   "cell_type": "code",
   "execution_count": 92,
   "metadata": {},
   "outputs": [],
   "source": [
    "# ll.get(4)"
   ]
  },
  {
   "cell_type": "code",
   "execution_count": 77,
   "metadata": {},
   "outputs": [
    {
     "data": {
      "text/plain": [
       "'Mani'"
      ]
     },
     "execution_count": 77,
     "metadata": {},
     "output_type": "execute_result"
    }
   ],
   "source": [
    "ll.delete_first()"
   ]
  },
  {
   "cell_type": "code",
   "execution_count": 78,
   "metadata": {},
   "outputs": [
    {
     "data": {
      "text/plain": [
       "Sachin => Kavi"
      ]
     },
     "execution_count": 78,
     "metadata": {},
     "output_type": "execute_result"
    }
   ],
   "source": [
    "ll"
   ]
  },
  {
   "cell_type": "code",
   "execution_count": 79,
   "metadata": {},
   "outputs": [
    {
     "data": {
      "text/plain": [
       "'Sachin'"
      ]
     },
     "execution_count": 79,
     "metadata": {},
     "output_type": "execute_result"
    }
   ],
   "source": [
    "ll.delete_first()"
   ]
  },
  {
   "cell_type": "code",
   "execution_count": 80,
   "metadata": {},
   "outputs": [
    {
     "data": {
      "text/plain": [
       "Kavi"
      ]
     },
     "execution_count": 80,
     "metadata": {},
     "output_type": "execute_result"
    }
   ],
   "source": [
    "ll"
   ]
  },
  {
   "cell_type": "code",
   "execution_count": 81,
   "metadata": {},
   "outputs": [
    {
     "data": {
      "text/plain": [
       "'Kavi'"
      ]
     },
     "execution_count": 81,
     "metadata": {},
     "output_type": "execute_result"
    }
   ],
   "source": [
    "ll.delete_first()"
   ]
  },
  {
   "cell_type": "code",
   "execution_count": 82,
   "metadata": {},
   "outputs": [
    {
     "data": {
      "text/plain": []
     },
     "execution_count": 82,
     "metadata": {},
     "output_type": "execute_result"
    }
   ],
   "source": [
    "ll"
   ]
  },
  {
   "cell_type": "code",
   "execution_count": null,
   "metadata": {},
   "outputs": [],
   "source": []
  }
 ],
 "metadata": {
  "kernelspec": {
   "display_name": "Python 3",
   "language": "python",
   "name": "python3"
  },
  "language_info": {
   "codemirror_mode": {
    "name": "ipython",
    "version": 3
   },
   "file_extension": ".py",
   "mimetype": "text/x-python",
   "name": "python",
   "nbconvert_exporter": "python",
   "pygments_lexer": "ipython3",
   "version": "3.7.7"
  }
 },
 "nbformat": 4,
 "nbformat_minor": 4
}
